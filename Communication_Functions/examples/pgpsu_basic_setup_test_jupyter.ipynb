{
 "cells": [
  {
   "cell_type": "code",
   "execution_count": 2,
   "metadata": {},
   "outputs": [
    {
     "ename": "ModuleNotFoundError",
     "evalue": "No module named 'modules'",
     "output_type": "error",
     "traceback": [
      "\u001b[1;31m---------------------------------------------------------------------------\u001b[0m",
      "\u001b[1;31mModuleNotFoundError\u001b[0m                       Traceback (most recent call last)",
      "Cell \u001b[1;32mIn[2], line 2\u001b[0m\n\u001b[0;32m      1\u001b[0m \u001b[39m# FUNCTIONS IN MODULE\u001b[39;00m\n\u001b[1;32m----> 2\u001b[0m \u001b[39mfrom\u001b[39;00m \u001b[39mmodules\u001b[39;00m\u001b[39m.\u001b[39;00m\u001b[39mpsu_pg_functions\u001b[39;00m \u001b[39mimport\u001b[39;00m \u001b[39m*\u001b[39m\n\u001b[0;32m      3\u001b[0m \u001b[39mimport\u001b[39;00m \u001b[39mpandas\u001b[39;00m \u001b[39mas\u001b[39;00m \u001b[39mpd\u001b[39;00m\n\u001b[0;32m      5\u001b[0m \u001b[39mimport\u001b[39;00m \u001b[39mtime\u001b[39;00m\n",
      "\u001b[1;31mModuleNotFoundError\u001b[0m: No module named 'modules'"
     ]
    }
   ],
   "source": [
    "# FUNCTIONS IN MODULE\n",
    "from modules.psu_pg_functions import *\n",
    "import pandas as pd\n",
    "\n",
    "import time\n",
    "\n",
    "# VARIABLES\n",
    "posVoltage = 40\n",
    "negVoltage = 40"
   ]
  },
  {
   "cell_type": "code",
   "execution_count": null,
   "metadata": {},
   "outputs": [],
   "source": [
    "# START SERIAL CONNECTION AND SAVE THE CONNECTIONS IN A LIST: [PSU, PG]\n",
    "serials_list = serial_start_connections()\n",
    "serials_list    # SHOW SERIAL LIST IN JUPYTER"
   ]
  },
  {
   "cell_type": "code",
   "execution_count": null,
   "metadata": {},
   "outputs": [],
   "source": [
    "# SEND PSU SETPOINTS (45, -45 VOLTS) AND READ THE RESPONSE AFTER 5 SECONDS\n",
    "status = send_PSU_setpoints(serials_list[0], posVoltage, negVoltage, 1)\n",
    "print(status)\n",
    "\n",
    "time.sleep(5)\n",
    "for i in range(5):\n",
    "    data, crc = read_PSU_data(serials_list[0])\n",
    "    print(data)\n",
    "    print(crc)\n",
    "    print(\"\")"
   ]
  },
  {
   "cell_type": "code",
   "execution_count": null,
   "metadata": {},
   "outputs": [],
   "source": [
    "# ENABLE THE PSU\n",
    "status = send_PSU_enable(serials_list[0], 1)\n",
    "print(status)"
   ]
  },
  {
   "cell_type": "code",
   "execution_count": null,
   "metadata": {},
   "outputs": [],
   "source": [
    "# SEND TIMES TO THE PG\n",
    "status = send_PG_pulsetimes(serials_list[1], repRate=5000, pulseLength=75, onTime=248, verbose=1)\n",
    "print(status)"
   ]
  },
  {
   "cell_type": "code",
   "execution_count": null,
   "metadata": {},
   "outputs": [],
   "source": [
    "# ENABLE THE PG AND GET THE ZERO-DATA\n",
    "zero_data = send_PG_enable(serials_list[1], 1)\n",
    "print(zero_data)"
   ]
  },
  {
   "cell_type": "code",
   "execution_count": null,
   "metadata": {},
   "outputs": [],
   "source": [
    "# READ THE NEXT PULSE (ONE SINGLE PULSE)\n",
    "pulse_array, pulse_datalength = read_next_PG_pulse(serials_list[1], verbose=1)\n",
    "print(pulse_datalength)\n",
    "pulse_array.shape"
   ]
  },
  {
   "cell_type": "code",
   "execution_count": null,
   "metadata": {},
   "outputs": [],
   "source": [
    "# CONVERT THE PULSE TO A DATA FRAME\n",
    "df_pulse = pd.DataFrame(pulse_array, columns=[\"Voltage\", \"Current\"])\n",
    "df_pulse"
   ]
  },
  {
   "cell_type": "code",
   "execution_count": null,
   "metadata": {},
   "outputs": [],
   "source": [
    "# ADD THE OFFSET (ZEROVOLTAGE, ZEROCURRENT) TO THE DF\n",
    "df_pulse_zero = df_pulse.copy()\n",
    "df_pulse_zero[\"Voltage\"] = df_pulse[\"Voltage\"] - zero_data[0]\n",
    "df_pulse_zero[\"Current\"] = df_pulse[\"Current\"] - zero_data[1]\n",
    "print(df_pulse_zero)"
   ]
  },
  {
   "cell_type": "code",
   "execution_count": null,
   "metadata": {},
   "outputs": [],
   "source": [
    "# PLOT THE PULSE\n",
    "df_pulse_zero.plot(\n",
    "    title=\"PG received data: voltage, current\",\n",
    "    y=['Voltage', 'Current'],\n",
    "    figsize=(15,5),\n",
    "    color=['red', 'blue'],\n",
    "    style=['-', '-'],\n",
    "    grid=True,\n",
    "    )\n",
    "plt.xlabel('samples')\n",
    "#plt.xlabel('time [ms]')\n",
    "plt.ylabel('value')\n",
    "\n",
    "\n",
    "plt.show()"
   ]
  },
  {
   "cell_type": "code",
   "execution_count": null,
   "metadata": {},
   "outputs": [],
   "source": [
    "status = send_PG_disable(serials_list[1], 1)\n",
    "print(status)"
   ]
  },
  {
   "cell_type": "code",
   "execution_count": null,
   "metadata": {},
   "outputs": [],
   "source": [
    "status = send_PSU_disable(serials_list[0], 1)\n",
    "print(status)"
   ]
  },
  {
   "cell_type": "code",
   "execution_count": null,
   "metadata": {},
   "outputs": [],
   "source": [
    "status = serial_close_connections(serials_list, 1)\n",
    "print(status)"
   ]
  },
  {
   "cell_type": "code",
   "execution_count": null,
   "metadata": {},
   "outputs": [],
   "source": []
  }
 ],
 "metadata": {
  "kernelspec": {
   "display_name": "Python 3",
   "language": "python",
   "name": "python3"
  },
  "language_info": {
   "codemirror_mode": {
    "name": "ipython",
    "version": 3
   },
   "file_extension": ".py",
   "mimetype": "text/x-python",
   "name": "python",
   "nbconvert_exporter": "python",
   "pygments_lexer": "ipython3",
   "version": "3.11.2"
  },
  "orig_nbformat": 4
 },
 "nbformat": 4,
 "nbformat_minor": 2
}
