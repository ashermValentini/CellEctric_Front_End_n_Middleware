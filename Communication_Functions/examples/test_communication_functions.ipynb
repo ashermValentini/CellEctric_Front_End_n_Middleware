{
 "cells": [
  {
   "cell_type": "markdown",
   "metadata": {},
   "source": [
    "# I) IMPORT COMMUNICATION FUNCTIONS"
   ]
  },
  {
   "cell_type": "code",
   "execution_count": 1,
   "metadata": {},
   "outputs": [],
   "source": [
    "import sys\n",
    "import os\n",
    "\n",
    "# Get the current working directory (where the notebook 'my_notebook.ipynb' is located)\n",
    "notebook_dir = os.getcwd()\n",
    "\n",
    "# Go up one level to the 'Communication_Functions' directory\n",
    "module_dir = os.path.dirname(notebook_dir)\n",
    "\n",
    "# Append the 'Communication_Functions' directory to the sys.path\n",
    "sys.path.append(module_dir)\n",
    "\n",
    "# Now you can import the 'communication_functions' module\n",
    "from communication_functions import *"
   ]
  },
  {
   "cell_type": "code",
   "execution_count": 2,
   "metadata": {},
   "outputs": [],
   "source": [
    "import pandas as pd"
   ]
  },
  {
   "cell_type": "markdown",
   "metadata": {},
   "source": [
    "# II) CONNECT TO DEVICES AND CHECK RETURN VALUE"
   ]
  },
  {
   "cell_type": "code",
   "execution_count": 4,
   "metadata": {},
   "outputs": [
    {
     "name": "stdout",
     "output_type": "stream",
     "text": [
      "[Serial<id=0x1acc45035b0, open=False>(port=None, baudrate=9600, bytesize=8, parity='N', stopbits=1, timeout=None, xonxoff=False, rtscts=False, dsrdtr=False), Serial<id=0x1acc4500730, open=False>(port=None, baudrate=9600, bytesize=8, parity='N', stopbits=1, timeout=None, xonxoff=False, rtscts=False, dsrdtr=False), Serial<id=0x1acc75fa920, open=False>(port=None, baudrate=115200, bytesize=8, parity='N', stopbits=1, timeout=None, xonxoff=False, rtscts=False, dsrdtr=False), None]\n"
     ]
    },
    {
     "data": {
      "text/plain": [
       "[Serial<id=0x1acc45035b0, open=False>(port=None, baudrate=9600, bytesize=8, parity='N', stopbits=1, timeout=None, xonxoff=False, rtscts=False, dsrdtr=False),\n",
       " Serial<id=0x1acc4500730, open=False>(port=None, baudrate=9600, bytesize=8, parity='N', stopbits=1, timeout=None, xonxoff=False, rtscts=False, dsrdtr=False),\n",
       " Serial<id=0x1acc75fa920, open=False>(port=None, baudrate=115200, bytesize=8, parity='N', stopbits=1, timeout=None, xonxoff=False, rtscts=False, dsrdtr=False),\n",
       " None]"
      ]
     },
     "execution_count": 4,
     "metadata": {},
     "output_type": "execute_result"
    }
   ],
   "source": [
    "device_serials = serial_start_connections()\n",
    "device_serials"
   ]
  },
  {
   "cell_type": "markdown",
   "metadata": {},
   "source": [
    "# III) START PSU AND CHECK RETURN VALUE"
   ]
  },
  {
   "cell_type": "code",
   "execution_count": null,
   "metadata": {},
   "outputs": [],
   "source": [
    "sucess = send_PSU_enable(device_serials[0], 1)\n",
    "print(sucess)"
   ]
  },
  {
   "cell_type": "markdown",
   "metadata": {},
   "source": [
    "# IV) START PG AND CHECK RETURN VALUE"
   ]
  },
  {
   "cell_type": "code",
   "execution_count": null,
   "metadata": {},
   "outputs": [],
   "source": [
    "zerodata = send_PG_enable(device_serials[1], 1)\n",
    "sucess = send_PG_pulsetimes(device_serials[1])\n",
    "print(zerodata)\n",
    "print(sucess)"
   ]
  },
  {
   "cell_type": "markdown",
   "metadata": {},
   "source": [
    "# A) READ PSU DATA IN A LOOP"
   ]
  },
  {
   "cell_type": "code",
   "execution_count": null,
   "metadata": {},
   "outputs": [],
   "source": [
    "psu_header = [\"CRC\", \"TYPE\", \"STATUS\", \"P-SETPOINT\", \"P-VALUE\", \"N-SETPOINT\", \"N-VALUE\", \"P-CURRENT\", \"N-CURRENT\"]\n",
    "df_psu = pd.DataFrame(columns=psu_header)\n",
    "\n",
    "for v in range(0, 45, 5):\n",
    "    send_PSU_setpoints(device_serials[0], v, v, verbose=0)\n",
    "\n",
    "    for i in range(600):\n",
    "        psu_data, psu_crc_status = read_PSU_data(device_serials[0], 0)\n",
    "    \n",
    "        # Add a new row to the DataFrame\n",
    "        new_row = pd.DataFrame([psu_data], columns=psu_header)\n",
    "        df_psu = pd.concat([df_psu, new_row], ignore_index=True)\n",
    "\n",
    "df_psu"
   ]
  },
  {
   "cell_type": "code",
   "execution_count": null,
   "metadata": {},
   "outputs": [],
   "source": [
    "# P-SETPOINT & P-VALUE\n",
    "df_psu.plot(\n",
    "    title=\"PSU received data: P\",\n",
    "    y=['P-SETPOINT', 'P-VALUE'],\n",
    "    figsize=(15,5),\n",
    "    color=['red', 'blue'],\n",
    "    style=['-', '-'],\n",
    "    grid=True,\n",
    "    )\n",
    "plt.xlabel('samples')\n",
    "#plt.xlabel('time [ms]')\n",
    "plt.ylabel('value')\n",
    "plt.show()\n",
    "\n",
    "\n",
    "# N-SETPOINT & N-VALUE\n",
    "df_psu.plot(\n",
    "    title=\"PSU received data: N\",\n",
    "    y=['N-SETPOINT', 'N-VALUE'],\n",
    "    figsize=(15,5),\n",
    "    color=['red', 'blue'],\n",
    "    style=['-', '-'],\n",
    "    grid=True,\n",
    "    )\n",
    "plt.xlabel('samples')\n",
    "#plt.xlabel('time [ms]')\n",
    "plt.ylabel('value')\n",
    "plt.show()\n",
    "\n",
    "\n",
    "# P-CURRENT & N-CURRENT\n",
    "df_psu.plot(\n",
    "    title=\"PSU received data: CURRENT\",\n",
    "    y=['P-CURRENT', 'N-CURRENT'],\n",
    "    figsize=(15,5),\n",
    "    color=['red', 'blue'],\n",
    "    style=['-', '-'],\n",
    "    grid=True,\n",
    "    )\n",
    "plt.xlabel('samples')\n",
    "#plt.xlabel('time [ms]')\n",
    "plt.ylabel('value')\n",
    "plt.show()"
   ]
  },
  {
   "cell_type": "markdown",
   "metadata": {},
   "source": [
    "# B) READ PG DATA IN A LOOP"
   ]
  },
  {
   "cell_type": "code",
   "execution_count": null,
   "metadata": {},
   "outputs": [],
   "source": [
    "PG_TYPE_DATASTART = 0x1000\n",
    "PG_TYPE_DATAEND = 0x1001\n",
    "PG_TYPE_PULSEDATA = 0x1002\n",
    "PG_TYPE_ZERODATA = 0x1003"
   ]
  },
  {
   "cell_type": "code",
   "execution_count": null,
   "metadata": {},
   "outputs": [],
   "source": [
    "pg_pulse_header = [\"VOLTAGE\", \"CURRENT\"]\n",
    "df_pg_pulse = pd.DataFrame(columns=pg_pulse_header)\n",
    "\n",
    "send_PSU_setpoints(device_serials[0], 45, 45, verbose=0)\n",
    "\n",
    "for i in range(2000):\n",
    "    pg_data, pg_datatype, pg_crc_status = read_PG_data(device_serials[1], 0)\n",
    "\n",
    "    if pg_datatype == PG_TYPE_PULSEDATA:\n",
    "        # Add a new row to the DataFrame\n",
    "        new_row = pd.DataFrame(pg_data, columns=pg_pulse_header)\n",
    "        df_pg_pulse = pd.concat([df_pg_pulse, new_row], ignore_index=True)\n",
    "\n",
    "    if pg_datatype == PG_TYPE_DATASTART:\n",
    "        for j in range(1000):    # ADD 100 ZERO DATA ROWS\n",
    "            zero_row = pd.DataFrame([zerodata], columns=pg_pulse_header)\n",
    "            df_pg_pulse = pd.concat([df_pg_pulse, zero_row], ignore_index=True)\n",
    "\n",
    "# CORRECT WITH ZERODATA\n",
    "df_pg_pulse_corrected = df_pg_pulse.copy()\n",
    "df_pg_pulse_corrected[\"VOLTAGE\"] = df_pg_pulse_corrected[\"VOLTAGE\"] - zerodata[0]\n",
    "df_pg_pulse_corrected[\"CURRENT\"] = df_pg_pulse_corrected[\"CURRENT\"] - zerodata[0]\n",
    "\n",
    "# SCALED TO DISPLAY VOLTAGE\n",
    "df_pg_pulse_scaled = df_pg_pulse_corrected.copy()\n",
    "df_pg_pulse_scaled[\"VOLTAGE\"] = df_pg_pulse_scaled[\"VOLTAGE\"] * 0.15\n",
    "df_pg_pulse_scaled[\"CURRENT\"] = df_pg_pulse_scaled[\"CURRENT\"] * 0.15\n",
    "\n",
    "#df_pg_pulse"
   ]
  },
  {
   "cell_type": "code",
   "execution_count": null,
   "metadata": {},
   "outputs": [],
   "source": [
    "# CURRENT & VOLTAGE\n",
    "df_pg_pulse.plot(\n",
    "    title=\"PG received data: Pulse\",\n",
    "    y=['VOLTAGE', 'CURRENT'],\n",
    "    figsize=(15,5),\n",
    "    color=['red', 'blue'],\n",
    "    style=['-', '-'],\n",
    "    grid=True,\n",
    "    )\n",
    "plt.xlabel('samples')\n",
    "#plt.xlabel('time [ms]')\n",
    "plt.ylabel('value')\n",
    "plt.show()\n",
    "\n",
    "\n",
    "# CURRENT & VOLTAGE CORRECTED (zerodata)\n",
    "df_pg_pulse_corrected.plot(\n",
    "    title=\"PG received data: Pulse corrected data\",\n",
    "    y=['VOLTAGE', 'CURRENT'],\n",
    "    figsize=(15,5),\n",
    "    color=['red', 'blue'],\n",
    "    style=['-', '-'],\n",
    "    grid=True,\n",
    "    )\n",
    "plt.xlabel('samples')\n",
    "#plt.xlabel('time [ms]')\n",
    "plt.ylabel('value')\n",
    "plt.show()\n",
    "\n",
    "\n",
    "# CURRENT & VOLTAGE SCALED\n",
    "df_pg_pulse_scaled.plot(\n",
    "    title=\"PG received data: Pulse corrected data\",\n",
    "    y=['VOLTAGE', 'CURRENT'],\n",
    "    figsize=(15,5),\n",
    "    color=['red', 'blue'],\n",
    "    style=['-', '-'],\n",
    "    grid=True,\n",
    "    )\n",
    "plt.xlabel('samples')\n",
    "#plt.xlabel('time [ms]')\n",
    "plt.ylabel('value')\n",
    "plt.show()"
   ]
  },
  {
   "cell_type": "markdown",
   "metadata": {},
   "source": [
    "# READ NEXT PULSE TEST"
   ]
  },
  {
   "cell_type": "code",
   "execution_count": null,
   "metadata": {},
   "outputs": [],
   "source": [
    "pg_singlepulse_header = [\"VOLTAGE\", \"CURRENT\"]\n",
    "df_pg_singlepulse = pd.DataFrame(columns=pg_singlepulse_header)\n",
    "\n",
    "send_PSU_setpoints(device_serials[0], 45, 45, verbose=0)\n",
    "\n",
    "pg_data, _ = read_next_PG_pulse(device_serials[1])\n",
    "\n",
    "new_row = pd.DataFrame(pg_data, columns=pg_singlepulse_header)\n",
    "df_pg_singlepulse = pd.concat([df_pg_singlepulse, new_row], ignore_index=True)\n",
    "\n",
    "\n",
    "# CORRECT WITH ZERODATA\n",
    "df_pg_singlepulse_corrected = df_pg_singlepulse.copy()\n",
    "df_pg_singlepulse_corrected[\"VOLTAGE\"] = df_pg_singlepulse_corrected[\"VOLTAGE\"] - zerodata[0]\n",
    "df_pg_singlepulse_corrected[\"CURRENT\"] = df_pg_singlepulse_corrected[\"CURRENT\"] - zerodata[0]\n",
    "\n",
    "# SCALED TO DISPLAY VOLTAGE\n",
    "df_pg_singlepulse_scaled = df_pg_singlepulse_corrected.copy()\n",
    "df_pg_singlepulse_scaled[\"VOLTAGE\"] = df_pg_singlepulse_scaled[\"VOLTAGE\"] * 0.15\n",
    "df_pg_singlepulse_scaled[\"CURRENT\"] = df_pg_singlepulse_scaled[\"CURRENT\"] * 0.15"
   ]
  },
  {
   "cell_type": "code",
   "execution_count": null,
   "metadata": {},
   "outputs": [],
   "source": [
    "# CURRENT & VOLTAGE\n",
    "df_pg_singlepulse.plot(\n",
    "    title=\"PG received data: Pulse\",\n",
    "    y=['VOLTAGE', 'CURRENT'],\n",
    "    figsize=(15,5),\n",
    "    color=['red', 'blue'],\n",
    "    style=['-', '-'],\n",
    "    grid=True,\n",
    "    )\n",
    "plt.xlabel('samples')\n",
    "#plt.xlabel('time [ms]')\n",
    "plt.ylabel('value')\n",
    "plt.show()\n",
    "\n",
    "\n",
    "# CURRENT & VOLTAGE CORRECTED (zerodata)\n",
    "df_pg_singlepulse_corrected.plot(\n",
    "    title=\"PG received data: Pulse corrected data\",\n",
    "    y=['VOLTAGE', 'CURRENT'],\n",
    "    figsize=(15,5),\n",
    "    color=['red', 'blue'],\n",
    "    style=['-', '-'],\n",
    "    grid=True,\n",
    "    )\n",
    "plt.xlabel('samples')\n",
    "#plt.xlabel('time [ms]')\n",
    "plt.ylabel('value')\n",
    "plt.show()\n",
    "\n",
    "\n",
    "# CURRENT & VOLTAGE SCALED\n",
    "df_pg_singlepulse_scaled.plot(\n",
    "    title=\"PG received data: Pulse corrected data\",\n",
    "    y=['VOLTAGE', 'CURRENT'],\n",
    "    figsize=(15,5),\n",
    "    color=['red', 'blue'],\n",
    "    style=['-', '-'],\n",
    "    grid=True,\n",
    "    )\n",
    "plt.xlabel('samples')\n",
    "#plt.xlabel('time [ms]')\n",
    "plt.ylabel('value')\n",
    "plt.show()"
   ]
  },
  {
   "cell_type": "markdown",
   "metadata": {},
   "source": [
    "## FLUIDIC TESTS (NEW FUNCTIONS)"
   ]
  },
  {
   "cell_type": "code",
   "execution_count": null,
   "metadata": {},
   "outputs": [],
   "source": [
    "# START PUMPING PUMP1 WITH 1.1ml/s\n",
    "msg = f'wPF-1-3.000\\n'\n",
    "# Write the message\n",
    "device_serials[2].write(msg.encode())"
   ]
  },
  {
   "cell_type": "code",
   "execution_count": null,
   "metadata": {},
   "outputs": [],
   "source": [
    "# STOP PUMPING\n",
    "msg = f'wPF-0-0.000\\n'\n",
    "# Write the message\n",
    "device_serials[2].write(msg.encode())"
   ]
  },
  {
   "cell_type": "code",
   "execution_count": null,
   "metadata": {},
   "outputs": [],
   "source": [
    "# LED 3 ON\n",
    "msg = f'wLS-002\\n'\n",
    "# Write the message\n",
    "device_serials[2].write(msg.encode())"
   ]
  },
  {
   "cell_type": "code",
   "execution_count": null,
   "metadata": {},
   "outputs": [],
   "source": [
    "# MOTOR HOMING\n",
    "msg = f'wMH-1\\n'\n",
    "# Write the message\n",
    "device_serials[2].write(msg.encode())"
   ]
  },
  {
   "cell_type": "code",
   "execution_count": null,
   "metadata": {},
   "outputs": [],
   "source": [
    "# RUN BLOOD SYRINGE\n",
    "msg = f'wMB-2.00-6.50\\n'        # wMB-mm/min-mm\n",
    "# Write the message\n",
    "device_serials[2].write(msg.encode())"
   ]
  },
  {
   "cell_type": "code",
   "execution_count": null,
   "metadata": {},
   "outputs": [],
   "source": [
    "# TEST MOTOR\n",
    "msg = f'wMT-1-5000\\n'       # MOTOR 1; 5000 STEPS\n",
    "# Write the message\n",
    "device_serials[2].write(msg.encode())"
   ]
  },
  {
   "cell_type": "code",
   "execution_count": null,
   "metadata": {},
   "outputs": [],
   "source": [
    "for i in range(600):\n",
    "    fetchFlowrate(device_serials[2])\n",
    "    msg = read_flowrate(device_serials[2])\n",
    "    print(msg)\n",
    "    time.sleep(0.095)"
   ]
  },
  {
   "cell_type": "code",
   "execution_count": null,
   "metadata": {},
   "outputs": [],
   "source": [
    "device_serials[2].close()"
   ]
  }
 ],
 "metadata": {
  "kernelspec": {
   "display_name": "datahandling",
   "language": "python",
   "name": "python3"
  },
  "language_info": {
   "codemirror_mode": {
    "name": "ipython",
    "version": 3
   },
   "file_extension": ".py",
   "mimetype": "text/x-python",
   "name": "python",
   "nbconvert_exporter": "python",
   "pygments_lexer": "ipython3",
   "version": "3.10.10"
  },
  "orig_nbformat": 4
 },
 "nbformat": 4,
 "nbformat_minor": 2
}
