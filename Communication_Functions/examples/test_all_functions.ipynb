{
 "cells": [
  {
   "attachments": {},
   "cell_type": "markdown",
   "metadata": {},
   "source": [
    "# FUNCTIONS FOR PG AND PSU TESTS AND EXAMPLES\n",
    "\n",
    "##### INFO: THERE HAVE BEEN SOME DATA-SENDING & -RECEIVING ERRORS. TEST THIS THOROUGHLY BEFORE USAGE. STRUCTURE STILL DISPLAYS HOW TO BASICALLY COMMUNICATE WITH THE PG AND THE PSU."
   ]
  },
  {
   "cell_type": "code",
   "execution_count": 1,
   "metadata": {},
   "outputs": [
    {
     "ename": "NameError",
     "evalue": "name '__file__' is not defined",
     "output_type": "error",
     "traceback": [
      "\u001b[1;31m---------------------------------------------------------------------------\u001b[0m",
      "\u001b[1;31mNameError\u001b[0m                                 Traceback (most recent call last)",
      "Cell \u001b[1;32mIn[1], line 4\u001b[0m\n\u001b[0;32m      2\u001b[0m \u001b[39mimport\u001b[39;00m \u001b[39msys\u001b[39;00m\n\u001b[0;32m      3\u001b[0m \u001b[39mimport\u001b[39;00m \u001b[39mos\u001b[39;00m\n\u001b[1;32m----> 4\u001b[0m sys\u001b[39m.\u001b[39mpath\u001b[39m.\u001b[39mappend(os\u001b[39m.\u001b[39mpath\u001b[39m.\u001b[39mdirname(os\u001b[39m.\u001b[39mpath\u001b[39m.\u001b[39mdirname(os\u001b[39m.\u001b[39mpath\u001b[39m.\u001b[39mabspath(\u001b[39m__file__\u001b[39;49m))))\n\u001b[0;32m      5\u001b[0m \u001b[39mfrom\u001b[39;00m \u001b[39mCommunication_Functions\u001b[39;00m\u001b[39m.\u001b[39;00m\u001b[39mcommunication_functions\u001b[39;00m \u001b[39mimport\u001b[39;00m \u001b[39m*\u001b[39m\n\u001b[0;32m      6\u001b[0m \u001b[39mimport\u001b[39;00m \u001b[39mpandas\u001b[39;00m \u001b[39mas\u001b[39;00m \u001b[39mpd\u001b[39;00m\n",
      "\u001b[1;31mNameError\u001b[0m: name '__file__' is not defined"
     ]
    }
   ],
   "source": [
    "# IMPORT ALL MODULES \n",
    "import sys\n",
    "import os\n",
    "sys.path.append(os.path.dirname(os.path.dirname(os.path.abspath(__file__))))\n",
    "from Communication_Functions.communication_functions import *\n",
    "import pandas as pd"
   ]
  },
  {
   "attachments": {},
   "cell_type": "markdown",
   "metadata": {},
   "source": [
    "# MAIN PROGRAM START"
   ]
  },
  {
   "cell_type": "code",
   "execution_count": 3,
   "metadata": {},
   "outputs": [
    {
     "name": "stdout",
     "output_type": "stream",
     "text": [
      "PSU SERIAL: Serial<id=0x187fbe33ee0, open=True>(port='COM12', baudrate=9600, bytesize=8, parity='N', stopbits=1, timeout=None, xonxoff=False, rtscts=False, dsrdtr=False)\n",
      "PG SERIAL: Serial<id=0x187fbe32ec0, open=True>(port='COM11', baudrate=9600, bytesize=8, parity='N', stopbits=1, timeout=None, xonxoff=False, rtscts=False, dsrdtr=False)\n"
     ]
    }
   ],
   "source": [
    "# START SERIAL CONNECTION AND SAVE THE CONNECTIONS IN A LIST: [PSU, PG]\n",
    "serials_list = serial_start_connections()\n",
    "psu_serial = serials_list[0]\n",
    "pg_serial = serials_list[1]\n",
    "print(\"PSU SERIAL:\", psu_serial)\n",
    "print(\"PG SERIAL:\", pg_serial)"
   ]
  },
  {
   "cell_type": "code",
   "execution_count": 37,
   "metadata": {},
   "outputs": [
    {
     "name": "stdout",
     "output_type": "stream",
     "text": [
      "pVal = 40V; nVal = 40V\n",
      "b'^!\\x01\\x00(\\x00(\\x00\\x00\\x00\\x00\\x00\\x00\\x00\\x00\\x00\\x00\\x00\\x00\\x00\\x00\\x00\\x00\\x00\\x00\\x00\\x00\\x00\\x00\\x00\\x00\\x00\\x00\\x00\\x00\\x00\\x00\\x00\\x00\\x00\\x00\\x00\\x00\\x00\\x00\\x00\\x00\\x00\\x00\\x00\\x00\\x00\\x00\\x00\\x00\\x00\\x00\\x00\\x00\\x00\\x00\\x00\\x00\\x00'\n",
      "----------------- START: TEST CRC -----------------\n",
      "CRC IN DATA:\t\t8542\n",
      "CRC CALCULATED:\t8542\n",
      "CRC CHECK:\t\tTrue\n",
      "----------------- END: TEST CRC -----------------\n",
      "--- fct: writeSerialData ---\n",
      "Timeout occurred while sending data. Attempt 1/5\n",
      "Timeout occurred while sending data. Attempt 2/5\n",
      "Timeout occurred while sending data. Attempt 3/5\n",
      "Timeout occurred while sending data. Attempt 4/5\n"
     ]
    }
   ],
   "source": [
    "status = send_PSU_setpoints(psu_serial, 40, 40, 1)\n",
    "print(status)"
   ]
  },
  {
   "cell_type": "code",
   "execution_count": 7,
   "metadata": {},
   "outputs": [
    {
     "name": "stdout",
     "output_type": "stream",
     "text": [
      "==================== START: READING ====================\n",
      "----------------- START: TEST CRC -----------------\n",
      "CRC IN DATA:\t\t43132\n",
      "CRC CALCULATED:\t43132\n",
      "CRC CHECK:\t\tTrue\n",
      "----------------- END: TEST CRC -----------------\n",
      "==================== END: READING ====================\n",
      "CRC: True\n",
      "DATA: [43132  4096     1    87    44    90    43 64873 64864]\n"
     ]
    }
   ],
   "source": [
    "data, crc = read_PSU_data(psu_serial, 1)\n",
    "print(\"CRC:\", crc)\n",
    "print(\"DATA:\", data)"
   ]
  },
  {
   "cell_type": "code",
   "execution_count": 8,
   "metadata": {},
   "outputs": [
    {
     "name": "stdout",
     "output_type": "stream",
     "text": [
      "b'\\x00\\xc3\\x03\\x00\\x00\\x00\\x00\\x00\\x00\\x00\\x00\\x00\\x00\\x00\\x00\\x00\\x00\\x00\\x00\\x00\\x00\\x00\\x00\\x00\\x00\\x00\\x00\\x00\\x00\\x00\\x00\\x00\\x00\\x00\\x00\\x00\\x00\\x00\\x00\\x00\\x00\\x00\\x00\\x00\\x00\\x00\\x00\\x00\\x00\\x00\\x00\\x00\\x00\\x00\\x00\\x00\\x00\\x00\\x00\\x00\\x00\\x00\\x00\\x00'\n",
      "--- fct: writeSerialData ---\n",
      "Data sent successfully\n",
      "--- end: writeSerialData ---\n",
      "True\n"
     ]
    }
   ],
   "source": [
    "status = send_PSU_enable(serials_list[0], 1)\n",
    "print(status)"
   ]
  },
  {
   "cell_type": "code",
   "execution_count": null,
   "metadata": {},
   "outputs": [],
   "source": []
  }
 ],
 "metadata": {
  "kernelspec": {
   "display_name": "datahandling",
   "language": "python",
   "name": "python3"
  },
  "language_info": {
   "codemirror_mode": {
    "name": "ipython",
    "version": 3
   },
   "file_extension": ".py",
   "mimetype": "text/x-python",
   "name": "python",
   "nbconvert_exporter": "python",
   "pygments_lexer": "ipython3",
   "version": "3.10.10"
  },
  "orig_nbformat": 4
 },
 "nbformat": 4,
 "nbformat_minor": 2
}
