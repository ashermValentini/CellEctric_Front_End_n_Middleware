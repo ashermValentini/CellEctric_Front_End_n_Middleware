{
 "cells": [
  {
   "cell_type": "markdown",
   "metadata": {},
   "source": [
    "# JUST RUN THE FIRST BOX AND THE WHOLE TEST WILL BE CONDUCTED AUTOMATICALLY"
   ]
  },
  {
   "cell_type": "code",
   "execution_count": 2,
   "metadata": {},
   "outputs": [
    {
     "name": "stdout",
     "output_type": "stream",
     "text": [
      "c:\\Users\\NicolasHeimbuger\\Documents\\GitHub\\BIO_Team_GUI\\Communication_Functions\\examples\\..\\LogData_PogoPins\\pogopin_test_2024-03-14_134819.csv\n",
      "Serial<id=0x223a9445b70, open=True>(port='COM13', baudrate=115200, bytesize=8, parity='N', stopbits=1, timeout=None, xonxoff=False, rtscts=False, dsrdtr=False)\n",
      "Received data: 3P-POGO0\n",
      "Received data: 3P-POGO0\n",
      "Received data: 3P-POGO0\n",
      "Program terminated by user\n",
      "      timestamp connection\n",
      "0  1.710421e+09          0\n",
      "1  1.710421e+09          0\n",
      "2  1.710421e+09          0\n"
     ]
    }
   ],
   "source": [
    "import serial                       # communication with the board\n",
    "from serial.tools import list_ports # check all ports to automatically detect devices\n",
    "import numpy as np                  # because science\n",
    "import pandas as pd\n",
    "import time                         # to sleep\n",
    "from datetime import datetime\n",
    "import matplotlib.pyplot as plt     # to print stuff nicely\n",
    "import os\n",
    "\n",
    "\n",
    "\n",
    "# Get the directory of the current script\n",
    "current_script_path = os.getcwd()\n",
    "\n",
    "# Construct the path to the desired folder\n",
    "log_data_path = os.path.join(current_script_path, '..', 'LogData_PogoPins')\n",
    "\n",
    "# Ensure the directory exists, if not, create it\n",
    "if not os.path.exists(log_data_path):\n",
    "    os.makedirs(log_data_path)\n",
    "\n",
    "# Get the current time in a specific format (Year-Month-Day_HourMinuteSecond)\n",
    "timestamp = datetime.now().strftime('%Y-%m-%d_%H%M%S')\n",
    "# File name you want to save as\n",
    "file_name = f\"pogopin_test_{timestamp}.csv\"\n",
    "\n",
    "# Full path including the file name\n",
    "full_file_path = os.path.join(log_data_path, file_name)\n",
    "\n",
    "print(full_file_path)\n",
    "\n",
    "\n",
    "\n",
    "\n",
    "\n",
    "\n",
    "\n",
    "pac_serial=None\n",
    "ports = serial.tools.list_ports.comports()\n",
    "for p in ports:\n",
    "    if p.manufacturer is not None and \"Silicon\" in p.manufacturer:  # \"Silicon\" is in the name of the ESP32 manufacturer\n",
    "        pac_serial = p.device\n",
    "\n",
    "ser = serial.Serial(pac_serial, 115200, write_timeout=5)\n",
    "print(ser)\n",
    "\n",
    "\n",
    "\n",
    "\n",
    "\n",
    "\n",
    "# CREATE DATA FRAME\n",
    "columns = ['timestamp', 'connection']\n",
    "df_pintest = pd.DataFrame(columns=columns)\n",
    "df_pintest.to_csv(full_file_path, index=False)\n",
    "\n",
    "# START\n",
    "msg = f'START\\n'\n",
    "#Write the message\n",
    "ser.write(msg.encode())  # encode the string to bytes before sending\n",
    "\n",
    "try:\n",
    "    while True:\n",
    "        # Check if there's data waiting\n",
    "        if ser.in_waiting > 0:\n",
    "            # Read the incoming data\n",
    "            data = ser.readline().decode('utf-8').rstrip()\n",
    "            if data.startswith(\"3P-POGO\"):\n",
    "                # get the current connection status\n",
    "                pogo_status = data[len(\"3P-POGO\")]\n",
    "                # Get the current Unix timestamp\n",
    "                current_timestamp = time.time()\n",
    "\n",
    "                new_row = {'timestamp': current_timestamp, 'connection': pogo_status}\n",
    "                new_row_df = pd.DataFrame([new_row])\n",
    "                # SAVE TO CSV\n",
    "                new_row_df.to_csv(full_file_path, mode='a', index=False, header=False)\n",
    "\n",
    "                #df_pintest = df_pintest.append(new_row, ignore_index=True)\n",
    "                df_pintest = pd.concat([df_pintest, new_row_df], ignore_index=True)\n",
    "            \n",
    "                print(f\"Received data: {data}\")\n",
    "        # Optional: a tiny sleep to avoid hogging the CPU\n",
    "        time.sleep(0.01)\n",
    "except KeyboardInterrupt:\n",
    "    print(\"Program terminated by user\")\n",
    "    # STOP\n",
    "    msg = f'STOP\\n'\n",
    "    #Write the message\n",
    "    ser.write(msg.encode())  # encode the string to bytes before sending\n",
    "finally:\n",
    "    ser.close()\n",
    "\n",
    "print(df_pintest)"
   ]
  },
  {
   "cell_type": "markdown",
   "metadata": {},
   "source": [
    "# JUST SOME SCRIPTS FOR TESTING. USE THEM WITH CARE"
   ]
  },
  {
   "cell_type": "code",
   "execution_count": null,
   "metadata": {},
   "outputs": [],
   "source": [
    "pac_serial=None\n",
    "ports = serial.tools.list_ports.comports()\n",
    "for p in ports:\n",
    "    if p.manufacturer is not None and \"Silicon\" in p.manufacturer:  # \"Silicon\" is in the name of the ESP32 manufacturer\n",
    "        pac_serial = p.device\n",
    "\n",
    "ser = serial.Serial(pac_serial, 115200, write_timeout=5)\n",
    "ser"
   ]
  },
  {
   "cell_type": "code",
   "execution_count": null,
   "metadata": {},
   "outputs": [],
   "source": [
    "# START\n",
    "msg = f'START\\n'\n",
    "#Write the message\n",
    "ser.write(msg.encode())  # encode the string to bytes before sending\n",
    "\n"
   ]
  },
  {
   "cell_type": "code",
   "execution_count": null,
   "metadata": {},
   "outputs": [],
   "source": [
    "# STOP\n",
    "msg = f'STOP\\n'\n",
    "#Write the message\n",
    "ser.write(msg.encode())  # encode the string to bytes before sending"
   ]
  },
  {
   "cell_type": "code",
   "execution_count": null,
   "metadata": {},
   "outputs": [],
   "source": [
    "ser.close()"
   ]
  },
  {
   "cell_type": "code",
   "execution_count": null,
   "metadata": {},
   "outputs": [],
   "source": [
    "# CREATE DATA FRAME\n",
    "columns = ['timestamp', 'connection']\n",
    "df_pintest = pd.DataFrame(columns=columns)\n",
    "df_pintest.to_csv(full_file_path, index=False)\n",
    "\n",
    "# START\n",
    "msg = f'START\\n'\n",
    "#Write the message\n",
    "ser.write(msg.encode())  # encode the string to bytes before sending\n",
    "\n",
    "try:\n",
    "    while True:\n",
    "        # Check if there's data waiting\n",
    "        if ser.in_waiting > 0:\n",
    "            # Read the incoming data\n",
    "            data = ser.readline().decode('utf-8').rstrip()\n",
    "            if data.startswith(\"3P-POGO\"):\n",
    "                # get the current connection status\n",
    "                pogo_status = data[len(\"3P-POGO\")]\n",
    "                # Get the current Unix timestamp\n",
    "                current_timestamp = time.time()\n",
    "\n",
    "                new_row = {'timestamp': current_timestamp, 'connection': pogo_status}\n",
    "                new_row_df = pd.DataFrame([new_row])\n",
    "                # SAVE TO CSV\n",
    "                new_row_df.to_csv(full_file_path, mode='a', index=False, header=False)\n",
    "\n",
    "                #df_pintest = df_pintest.append(new_row, ignore_index=True)\n",
    "                df_pintest = pd.concat([df_pintest, new_row_df], ignore_index=True)\n",
    "            \n",
    "                print(f\"Received data: {data}\")\n",
    "        # Optional: a tiny sleep to avoid hogging the CPU\n",
    "        time.sleep(0.01)\n",
    "except KeyboardInterrupt:\n",
    "    print(\"Program terminated by user\")\n",
    "    # STOP\n",
    "    msg = f'STOP\\n'\n",
    "    #Write the message\n",
    "    ser.write(msg.encode())  # encode the string to bytes before sending\n",
    "finally:\n",
    "    ser.close()\n",
    "\n",
    "print(df_pintest)"
   ]
  },
  {
   "cell_type": "code",
   "execution_count": null,
   "metadata": {},
   "outputs": [],
   "source": [
    "df_pintest\n"
   ]
  }
 ],
 "metadata": {
  "kernelspec": {
   "display_name": "datahandling",
   "language": "python",
   "name": "python3"
  },
  "language_info": {
   "codemirror_mode": {
    "name": "ipython",
    "version": 3
   },
   "file_extension": ".py",
   "mimetype": "text/x-python",
   "name": "python",
   "nbconvert_exporter": "python",
   "pygments_lexer": "ipython3",
   "version": "3.10.10"
  }
 },
 "nbformat": 4,
 "nbformat_minor": 2
}
