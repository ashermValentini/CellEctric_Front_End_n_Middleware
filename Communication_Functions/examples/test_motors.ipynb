{
 "cells": [
  {
   "attachments": {},
   "cell_type": "markdown",
   "metadata": {},
   "source": [
    "# IMPORT LIBRARIES AND MODULES (FUNCTIONS FOR PG AND PSU TESTS AND EXAMPLES)"
   ]
  },
  {
   "cell_type": "code",
   "execution_count": 1,
   "metadata": {},
   "outputs": [],
   "source": [
    "import sys\n",
    "import os\n",
    "import pandas as pd\n",
    "\n",
    "# Get the current working directory (where the notebook 'my_notebook.ipynb' is located)\n",
    "notebook_dir = os.getcwd()\n",
    "\n",
    "# Go up one level to the 'Communication_Functions' directory\n",
    "module_dir = os.path.dirname(notebook_dir)\n",
    "\n",
    "# Append the 'Communication_Functions' directory to the sys.path\n",
    "sys.path.append(module_dir)\n",
    "\n",
    "# Now you can import the 'communication_functions' module\n",
    "from communication_functions import *"
   ]
  },
  {
   "attachments": {},
   "cell_type": "markdown",
   "metadata": {},
   "source": [
    "# CONNECT TO DEVICES"
   ]
  },
  {
   "cell_type": "code",
   "execution_count": 2,
   "metadata": {},
   "outputs": [
    {
     "name": "stdout",
     "output_type": "stream",
     "text": [
      "[Serial<id=0x27566cdd9f0, open=False>(port=None, baudrate=9600, bytesize=8, parity='N', stopbits=1, timeout=None, xonxoff=False, rtscts=False, dsrdtr=False), Serial<id=0x27566cdda20, open=False>(port=None, baudrate=9600, bytesize=8, parity='N', stopbits=1, timeout=None, xonxoff=False, rtscts=False, dsrdtr=False), Serial<id=0x27564928b20, open=True>(port='COM11', baudrate=115200, bytesize=8, parity='N', stopbits=1, timeout=None, xonxoff=False, rtscts=False, dsrdtr=False), None]\n"
     ]
    },
    {
     "data": {
      "text/plain": [
       "[Serial<id=0x27566cdd9f0, open=False>(port=None, baudrate=9600, bytesize=8, parity='N', stopbits=1, timeout=None, xonxoff=False, rtscts=False, dsrdtr=False),\n",
       " Serial<id=0x27566cdda20, open=False>(port=None, baudrate=9600, bytesize=8, parity='N', stopbits=1, timeout=None, xonxoff=False, rtscts=False, dsrdtr=False),\n",
       " Serial<id=0x27564928b20, open=True>(port='COM11', baudrate=115200, bytesize=8, parity='N', stopbits=1, timeout=None, xonxoff=False, rtscts=False, dsrdtr=False),\n",
       " None]"
      ]
     },
     "execution_count": 2,
     "metadata": {},
     "output_type": "execute_result"
    }
   ],
   "source": [
    "device_serials = serial_start_connections()\n",
    "device_serials"
   ]
  },
  {
   "cell_type": "markdown",
   "metadata": {},
   "source": [
    "# 3PAC TESTS - FUNCTIONALITY"
   ]
  },
  {
   "cell_type": "code",
   "execution_count": null,
   "metadata": {},
   "outputs": [],
   "source": [
    "# DEBUG TESTING\n",
    "msg = f'wMZ\\n'\n",
    "print(msg)\n",
    "device_serials[2].write(msg.encode())"
   ]
  },
  {
   "cell_type": "markdown",
   "metadata": {},
   "source": [
    "### TEST MOTOR HOMING"
   ]
  },
  {
   "cell_type": "code",
   "execution_count": 3,
   "metadata": {},
   "outputs": [
    {
     "name": "stdout",
     "output_type": "stream",
     "text": [
      "wMH-0\n",
      "\n"
     ]
    },
    {
     "data": {
      "text/plain": [
       "6"
      ]
     },
     "execution_count": 3,
     "metadata": {},
     "output_type": "execute_result"
    }
   ],
   "source": [
    "# HOMING ALL MOTORS\n",
    "msg = f'wMH-0\\n'\n",
    "print(msg)\n",
    "device_serials[2].write(msg.encode())"
   ]
  },
  {
   "cell_type": "code",
   "execution_count": null,
   "metadata": {},
   "outputs": [],
   "source": [
    "# HOMING OF A SINGLE MOTOR\n",
    "MOTOR_NUMBER = 4\n",
    "\n",
    "#__________________________________________________________________________________________________________________________________________________\n",
    "msg = f'wMH-{MOTOR_NUMBER}\\n'\n",
    "print(msg)\n",
    "device_serials[2].write(msg.encode())"
   ]
  },
  {
   "cell_type": "markdown",
   "metadata": {},
   "source": [
    "### TEST MOTOR MOVEMENT - SIMPLE"
   ]
  },
  {
   "cell_type": "code",
   "execution_count": null,
   "metadata": {},
   "outputs": [],
   "source": [
    "# MOVE SPECIFIC MOTOR TO ABSOLUTE POSITION\n",
    "# ATTENTION! MOTORS MUST BE HOMED\n",
    "MOTOR_NUMBER = 4\n",
    "DESIRED_POSITION = 0\n",
    "\n",
    "#__________________________________________________________________________________________________________________________________________________\n",
    "str_pos = f\"{DESIRED_POSITION:.5f}\".rstrip('0').rstrip('.')\n",
    "num_chars_needed = 6 - len(str_pos)\n",
    "if '.' not in str_pos:\n",
    "    str_pos += '.' + '0' * num_chars_needed\n",
    "elif num_chars_needed < 0:\n",
    "    str_pos = str_pos[:6]\n",
    "else:\n",
    "    str_pos += '0' * num_chars_needed\n",
    "\n",
    "msg = f'wMP-{MOTOR_NUMBER}-{str_pos}\\n'\n",
    "print(msg)\n",
    "device_serials[2].write(msg.encode())"
   ]
  },
  {
   "cell_type": "code",
   "execution_count": null,
   "metadata": {},
   "outputs": [],
   "source": [
    "# MOVE SPECIFIC MOTOR TO RELATIVE POSITION\n",
    "# ATTENTION! MOTORS MUST BE HOMED\n",
    "MOTOR_NUMBER = 2\n",
    "RELATIVE_DISTANCE = 5\n",
    "DIRECTION = 1           # 1.. POSITIVE, 2.. NEGATIVE\n",
    "\n",
    "#__________________________________________________________________________________________________________________________________________________\n",
    "str_pos = f\"{RELATIVE_DISTANCE:.5f}\".rstrip('0').rstrip('.')\n",
    "num_chars_needed = 5 - len(str_pos)\n",
    "if '.' not in str_pos:\n",
    "    str_pos += '.' + '0' * num_chars_needed\n",
    "elif num_chars_needed < 0:\n",
    "    str_pos = str_pos[:6]\n",
    "else:\n",
    "    str_pos += '0' * num_chars_needed\n",
    "\n",
    "msg = f'wMD-{MOTOR_NUMBER}-{str_pos}-{DIRECTION}\\n'\n",
    "print(msg)\n",
    "device_serials[2].write(msg.encode())"
   ]
  },
  {
   "cell_type": "code",
   "execution_count": null,
   "metadata": {},
   "outputs": [],
   "source": [
    "# STOP ALL MOTORS\n",
    "# MOVE SPECIFIC MOTOR TO RELATIVE POSITION\n",
    "# ATTENTION! MOTORS MUST BE HOMED\n",
    "MOTOR_NUMBER = 3\n",
    "RELATIVE_DISTANCE = 20\n",
    "DIRECTION = 1           # 1.. POSITIVE, 2.. NEGATIVE\n",
    "STOP_TIME_S = 2\n",
    "\n",
    "#__________________________________________________________________________________________________________________________________________________\n",
    "msg = f'wMS-{MOTOR_NUMBER}\\n'\n",
    "print(msg)\n",
    "device_serials[2].write(msg.encode())"
   ]
  },
  {
   "cell_type": "code",
   "execution_count": null,
   "metadata": {},
   "outputs": [],
   "source": [
    "# MOVE SPECIFIC MOTOR (JOGGING)\n",
    "MOTOR_NUMBER = 1\n",
    "DIRECTION = 1       # 1.. POSITIVE, 2.. NEGATIVE, 0.. STOP\n",
    "FAST = 0\n",
    "DURATION_S = 1 \n",
    "\n",
    "#__________________________________________________________________________________________________________________________________________________\n",
    "# START JOGGING\n",
    "msg = f'wMJ-{MOTOR_NUMBER}-{DIRECTION}-{FAST}\\n'\n",
    "print(msg)\n",
    "device_serials[2].write(msg.encode())\n",
    "\n",
    "time.sleep(DURATION_S)\n",
    "\n",
    "# STOP JOGGING\n",
    "msg = f'wMJ-0-0-0\\n'\n",
    "print(msg)\n",
    "device_serials[2].write(msg.encode())"
   ]
  },
  {
   "cell_type": "code",
   "execution_count": 8,
   "metadata": {},
   "outputs": [
    {
     "name": "stdout",
     "output_type": "stream",
     "text": [
      "wMB-0.00-0.250\n",
      "\n"
     ]
    },
    {
     "data": {
      "text/plain": [
       "15"
      ]
     },
     "execution_count": 8,
     "metadata": {},
     "output_type": "execute_result"
    }
   ],
   "source": [
    "# BLOOD SYRINGE TEST\n",
    "BLOOD_VOLUME = 0.0      # ALWAYS USE 4 CHARACTERS (including the \".\")\n",
    "BLOOD_FLOWRATE = 0.25   \n",
    "\n",
    "#__________________________________________________________________________________________________________________________________________________\n",
    "str_vol = f\"{BLOOD_VOLUME:.3f}\".rstrip('0').rstrip('.')\n",
    "num_chars_needed = 3 - len(str_vol)\n",
    "if '.' not in str_vol:\n",
    "    str_vol += '.' + '0' * num_chars_needed\n",
    "elif num_chars_needed < 0:\n",
    "    str_vol = str_vol[:4]\n",
    "else:\n",
    "    str_vol += '0' * num_chars_needed\n",
    "\n",
    "str_flow = f\"{BLOOD_FLOWRATE:.5f}\".rstrip('0').rstrip('.')\n",
    "num_chars_needed = 5 - len(str_flow)\n",
    "if '.' not in str_flow:\n",
    "    str_flow += '.' + '0' * num_chars_needed\n",
    "elif num_chars_needed < 0:\n",
    "    str_flow = str_flow[:6]\n",
    "else:\n",
    "    str_flow += '0' * num_chars_needed\n",
    "\n",
    "# PUMPING BLOOD\n",
    "msg = f'wMB-{str_vol}-{str_flow}\\n'\n",
    "print(msg)\n",
    "device_serials[2].write(msg.encode())"
   ]
  },
  {
   "cell_type": "markdown",
   "metadata": {},
   "source": [
    "### TEST MOTOR MOVEMENT - ADVANCED"
   ]
  },
  {
   "cell_type": "code",
   "execution_count": null,
   "metadata": {},
   "outputs": [],
   "source": [
    "# BLOOD SYRINGE TEST\n",
    "BLOOD_VOLUME = 1.20      # ALWAYS USE 4 CHARACTERS (including the \".\")\n",
    "BLOOD_FLOWRATE = 0.25   \n",
    "JOGGING_DURATION_S = 3\n",
    "\n",
    "#__________________________________________________________________________________________________________________________________________________\n",
    "str_vol = f\"{BLOOD_VOLUME:.3f}\".rstrip('0').rstrip('.')\n",
    "num_chars_needed = 4 - len(str_vol)\n",
    "if '.' not in str_vol:\n",
    "    str_vol += '.' + '0' * num_chars_needed\n",
    "elif num_chars_needed < 0:\n",
    "    str_vol = str_vol[:4]\n",
    "else:\n",
    "    str_vol += '0' * num_chars_needed\n",
    "\n",
    "str_flow = f\"{BLOOD_FLOWRATE:.5f}\".rstrip('0').rstrip('.')\n",
    "num_chars_needed = 6 - len(str_flow)\n",
    "if '.' not in str_flow:\n",
    "    str_flow += '.' + '0' * num_chars_needed\n",
    "elif num_chars_needed < 0:\n",
    "    str_flow = str_flow[:6]\n",
    "else:\n",
    "    str_flow += '0' * num_chars_needed\n",
    "\n",
    "# HOMING BLOOD SYRINGE\n",
    "msg = f'wMH-1\\n'\n",
    "print(msg)\n",
    "device_serials[2].write(msg.encode())\n",
    "\n",
    "# JOGGING SYRINGE\n",
    "msg = f'wMJ-1-2-0\\n'\n",
    "print(msg)\n",
    "device_serials[2].write(msg.encode())\n",
    "\n",
    "time.sleep(JOGGING_DURATION_S)\n",
    "\n",
    "# STOP JOGGING SYRINGE\n",
    "msg = f'wMJ-0-0-0\\n'\n",
    "print(msg)\n",
    "device_serials[2].write(msg.encode())\n",
    "\n",
    "# PUMPING BLOOD\n",
    "msg = f'wMB-{str_vol}-{str_flow}\\n'\n",
    "print(msg)\n",
    "device_serials[2].write(msg.encode())"
   ]
  },
  {
   "cell_type": "markdown",
   "metadata": {},
   "source": [
    "# 3PAC TESTS - WRONG MESSAGES / UNDESIRED BEHAVIOUR"
   ]
  },
  {
   "cell_type": "code",
   "execution_count": null,
   "metadata": {},
   "outputs": [],
   "source": [
    "# SEND MANY MOVEMENT MESSAGES RANDOMLY\n"
   ]
  },
  {
   "cell_type": "code",
   "execution_count": null,
   "metadata": {},
   "outputs": [],
   "source": [
    "# START SERIAL CONNECTION AND SAVE THE CONNECTIONS IN A LIST: [PSU, PG]\n",
    "serials_list = serial_start_connections()\n",
    "psu_serial = serials_list[0]\n",
    "pg_serial = serials_list[1]\n",
    "print(\"PSU SERIAL:\", psu_serial)\n",
    "print(\"PG SERIAL:\", pg_serial)"
   ]
  },
  {
   "cell_type": "code",
   "execution_count": null,
   "metadata": {},
   "outputs": [],
   "source": []
  }
 ],
 "metadata": {
  "kernelspec": {
   "display_name": "datahandling",
   "language": "python",
   "name": "python3"
  },
  "language_info": {
   "codemirror_mode": {
    "name": "ipython",
    "version": 3
   },
   "file_extension": ".py",
   "mimetype": "text/x-python",
   "name": "python",
   "nbconvert_exporter": "python",
   "pygments_lexer": "ipython3",
   "version": "3.10.10"
  },
  "orig_nbformat": 4
 },
 "nbformat": 4,
 "nbformat_minor": 2
}
