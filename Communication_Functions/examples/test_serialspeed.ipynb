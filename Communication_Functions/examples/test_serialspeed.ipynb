{
 "cells": [
  {
   "cell_type": "code",
   "execution_count": 1,
   "metadata": {},
   "outputs": [
    {
     "name": "stdout",
     "output_type": "stream",
     "text": [
      "Starting ping test...\n",
      "RESPONSE: PONG\n",
      "Round trip time: 10.00 ms\n",
      "RESPONSE: ESP: Durations --> millis(): 0\treadStringUntil(): 1\ttrim(): 0\tprintln(\"PONG\"): 0\tSUM: 1\n",
      "RESPONSE: PONG\n",
      "Round trip time: 9.18 ms\n",
      "RESPONSE: ESP: Durations --> millis(): 0\treadStringUntil(): 0\ttrim(): 0\tprintln(\"PONG\"): 0\tSUM: 0\n",
      "RESPONSE: PONG\n",
      "Round trip time: 9.63 ms\n",
      "RESPONSE: ESP: Durations --> millis(): 0\treadStringUntil(): 0\ttrim(): 0\tprintln(\"PONG\"): 0\tSUM: 0\n",
      "RESPONSE: PONG\n",
      "Round trip time: 9.04 ms\n",
      "RESPONSE: ESP: Durations --> millis(): 0\treadStringUntil(): 0\ttrim(): 0\tprintln(\"PONG\"): 0\tSUM: 0\n",
      "RESPONSE: PONG\n",
      "Round trip time: 9.10 ms\n",
      "RESPONSE: ESP: Durations --> millis(): 0\treadStringUntil(): 0\ttrim(): 0\tprintln(\"PONG\"): 1\tSUM: 1\n",
      "Ping test completed.\n"
     ]
    }
   ],
   "source": [
    "import serial\n",
    "import time\n",
    "\n",
    "def send_ping(serial_port):\n",
    "    msg = \"PING\\n\"\n",
    "    serial_port.write(msg.encode())\n",
    "    serial_port.flush()\n",
    "\n",
    "def receive_ping(serial_port):\n",
    "    while True:\n",
    "        line = serial_port.readline().decode().strip()\n",
    "        print(\"RESPONSE: \" + line)\n",
    "        if line == 'PONG':\n",
    "            break\n",
    "\n",
    "def receive_message(serial_port):\n",
    "    while True:\n",
    "        line = line = serial_port.readline().decode().strip()\n",
    "        print(\"RESPONSE: \" + line)\n",
    "        if line.startswith('ESP'):\n",
    "            break\n",
    "\n",
    "def main():\n",
    "    port1 = \"COM13\"  # Replace with the actual serial port of ESP32 1\n",
    "\n",
    "    baud_rate = 115200\n",
    "\n",
    "    with serial.Serial(port1, baud_rate, timeout=1) as ser:\n",
    "        print(\"Starting ping test...\")\n",
    "\n",
    "        for _ in range(5):  # Perform 5 ping tests\n",
    "            start_time = time.time()\n",
    "            \n",
    "            send_ping(ser)\n",
    "            receive_ping(ser)\n",
    "            \n",
    "            end_time = time.time()\n",
    "            round_trip_time = (end_time - start_time) * 1000  # Convert to milliseconds\n",
    "            \n",
    "            print(f\"Round trip time: {round_trip_time:.2f} ms\")\n",
    "\n",
    "            receive_message(ser)\n",
    "\n",
    "        print(\"Ping test completed.\")\n",
    "\n",
    "if __name__ == \"__main__\":\n",
    "    main()"
   ]
  }
 ],
 "metadata": {
  "kernelspec": {
   "display_name": "datahandling",
   "language": "python",
   "name": "python3"
  },
  "language_info": {
   "codemirror_mode": {
    "name": "ipython",
    "version": 3
   },
   "file_extension": ".py",
   "mimetype": "text/x-python",
   "name": "python",
   "nbconvert_exporter": "python",
   "pygments_lexer": "ipython3",
   "version": "3.10.10"
  },
  "orig_nbformat": 4
 },
 "nbformat": 4,
 "nbformat_minor": 2
}
