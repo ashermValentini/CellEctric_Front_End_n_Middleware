{
 "cells": [
  {
   "cell_type": "markdown",
   "metadata": {},
   "source": [
    "system sterilaty times "
   ]
  },
  {
   "cell_type": "code",
   "execution_count": 3,
   "metadata": {},
   "outputs": [
    {
     "name": "stdout",
     "output_type": "stream",
     "text": [
      "192.0\n"
     ]
    }
   ],
   "source": [
    "import defaults\n",
    "\n",
    "import workflow_defaults\n",
    "\n",
    "FR_ethanol_1 = 10   # [ml/min]\n",
    "V_ethanol_1 = 5     # [ml]\n",
    "delay_1 = (V_ethanol_1/FR_ethanol_1) * 60 * 1000\n",
    "delay_1_int = int(round(delay_1)) + 2000\n",
    "FR_sucrose_1 = 10   # [ml/min]   \n",
    "V_sucrose_1 = 9     # [ml]\n",
    "delay_2 = (V_sucrose_1/FR_sucrose_1) * 60 * 1000\n",
    "delay_2_int = int(round(delay_2)) + 2000\n",
    "FR_sucrose_2 = 10   # [ml/min]              \n",
    "V_sucrose_2 = 5     # [ml]\n",
    "instruction_delay_1 = 10000\n",
    "delay_3 = (V_sucrose_2/FR_sucrose_2) * 60 * 1000\n",
    "delay_3_int = int(round(delay_3)) + 2000\n",
    "instruction_delay_2 = 10000\n",
    "FR_ethanol_2 = 10   # [ml/min]  \n",
    "V_ethanol_2 = 8     # [ml]\n",
    "delay_4 = (V_ethanol_2/FR_ethanol_2) * 60 * 1000\n",
    "delay_4_int = int(round(delay_4)) + 2000\n",
    "\n",
    "total = delay_1_int+delay_2_int+instruction_delay_1+delay_3_int+instruction_delay_2 + delay_4_int + 2000\n",
    "\n",
    "print(total/1000)"
   ]
  },
  {
   "cell_type": "markdown",
   "metadata": {},
   "source": [
    "decon times "
   ]
  },
  {
   "cell_type": "code",
   "execution_count": 5,
   "metadata": {},
   "outputs": [
    {
     "name": "stdout",
     "output_type": "stream",
     "text": [
      "1164.0\n"
     ]
    }
   ],
   "source": [
    "fluid_delay_1 = (workflow_defaults.V[1]/workflow_defaults.FR[1]) * 60 * 1000 \n",
    "fluid_delay_1_int = int(round(fluid_delay_1)) + 2000 \n",
    "fluid_delay_2 = (workflow_defaults.V[0]/workflow_defaults.FR[1]) * 60 * 1000\n",
    "fluid_delay_2_int = int(round(fluid_delay_2)) + 2000\n",
    "fluid_delay_3 = (workflow_defaults.V[1]/workflow_defaults.FR[1]) * 60 * 1000\n",
    "fluid_delay_3_int = int(round(fluid_delay_3)) + 2000\n",
    "fluid_delay_4 = (workflow_defaults.V[0]/workflow_defaults.FR[1]) * 60 * 1000\n",
    "fluid_delay_4_int = int(round(fluid_delay_4)) + 2000\n",
    "\n",
    "total = 24000 + workflow_defaults.PIERCE_T + workflow_defaults.SOAK_T + fluid_delay_1_int + fluid_delay_2_int + fluid_delay_3_int + workflow_defaults.DRIP_T + workflow_defaults.PIERCE_T + 10000 + workflow_defaults.PIERCE_T + fluid_delay_4_int + workflow_defaults.DRIP_T + workflow_defaults.PIERCE_T + 2000\n",
    "\n",
    "print(total/1000)"
   ]
  },
  {
   "cell_type": "markdown",
   "metadata": {},
   "source": [
    "hv times "
   ]
  },
  {
   "cell_type": "code",
   "execution_count": 4,
   "metadata": {},
   "outputs": [
    {
     "name": "stdout",
     "output_type": "stream",
     "text": [
      "170.001\n"
     ]
    }
   ],
   "source": [
    "total_HV_WF_time = (workflow_defaults.V[3]/workflow_defaults.FR[0]) * 60 * 1000\n",
    "total_HV_WF_time_int = int(round(total_HV_WF_time)) \n",
    "\n",
    "total = 1 + 10000 + workflow_defaults.PIERCE_T + total_HV_WF_time_int+ 30000 + workflow_defaults.PIERCE_T + 2000\n",
    "\n",
    "print(total /1000)"
   ]
  },
  {
   "cell_type": "markdown",
   "metadata": {},
   "source": [
    "flush out times "
   ]
  },
  {
   "cell_type": "code",
   "execution_count": 7,
   "metadata": {},
   "outputs": [
    {
     "name": "stdout",
     "output_type": "stream",
     "text": [
      "352.001\n"
     ]
    }
   ],
   "source": [
    "fluid_out_delay_1 = (workflow_defaults.V[0]/workflow_defaults.FR[1]) * 60 * 1000\n",
    "fluid_out_delay_1_int = int(round(fluid_out_delay_1)) \n",
    "fluid_out_delay_2_int = fluid_out_delay_1_int\n",
    "\n",
    "total = 1 + 10000 + workflow_defaults.PIERCE_T + fluid_out_delay_1_int + workflow_defaults.DRIP_T + workflow_defaults.PIERCE_T + 10000 + workflow_defaults.PIERCE_T + fluid_out_delay_2_int + workflow_defaults.DRIP_T + 2000\n",
    "\n",
    "print(total/1000)"
   ]
  },
  {
   "cell_type": "markdown",
   "metadata": {},
   "source": [
    "ov times "
   ]
  },
  {
   "cell_type": "code",
   "execution_count": 5,
   "metadata": {},
   "outputs": [
    {
     "name": "stdout",
     "output_type": "stream",
     "text": [
      "172.001\n"
     ]
    }
   ],
   "source": [
    "total_0V_WF_time = (workflow_defaults.V[2]/workflow_defaults.FR[0]) * 60 * 1000\n",
    "total_0V_WF_time_int = int(round(total_0V_WF_time)) + 2000\n",
    "total_0V_WF_time = (workflow_defaults.V[3]/workflow_defaults.FR[0]) * 60 * 1000\n",
    "total_0V_WF_time_int = int(round(total_0V_WF_time)) + 2000\n",
    "total = 1 + 10000 + workflow_defaults.PIERCE_T + total_0V_WF_time_int+ 30000 + workflow_defaults.PIERCE_T + 2000\n",
    "\n",
    "print(total/1000)"
   ]
  },
  {
   "cell_type": "markdown",
   "metadata": {},
   "source": [
    "safe disconnect times "
   ]
  },
  {
   "cell_type": "code",
   "execution_count": 9,
   "metadata": {},
   "outputs": [
    {
     "name": "stdout",
     "output_type": "stream",
     "text": [
      "312.001\n"
     ]
    }
   ],
   "source": [
    "fluid_safe_disconnect_delay_1 = (workflow_defaults.V[1]/workflow_defaults.FR[1]) * 60 * 1000\n",
    "fluid_out_delay_1_int = int(round(fluid_safe_disconnect_delay_1)) \n",
    "\n",
    "total = 1 + 30000 + workflow_defaults.PIERCE_T + fluid_out_delay_1_int + 30000 + 2000\n",
    "\n",
    "print(total/1000)"
   ]
  }
 ],
 "metadata": {
  "kernelspec": {
   "display_name": "Python 3",
   "language": "python",
   "name": "python3"
  },
  "language_info": {
   "codemirror_mode": {
    "name": "ipython",
    "version": 3
   },
   "file_extension": ".py",
   "mimetype": "text/x-python",
   "name": "python",
   "nbconvert_exporter": "python",
   "pygments_lexer": "ipython3",
   "version": "3.12.0"
  }
 },
 "nbformat": 4,
 "nbformat_minor": 2
}
